{
 "cells": [
  {
   "cell_type": "markdown",
   "id": "ef2aae54-a7ef-4c56-8c1c-4a76b2f3f1c8",
   "metadata": {},
   "source": [
    "# 📌 Project Summary\n",
    "\n",
    "This script reads raw sales data and automatically generates:\n",
    "- A summary of revenue, orders, and units sold\n",
    "- Weekly sales breakdown\n",
    "- Excel charts (bar/line) for quick insights"
   ]
  },
  {
   "cell_type": "markdown",
   "id": "66bbe518-8793-4255-a8a0-99b97748940a",
   "metadata": {},
   "source": [
    "### 🛠 Tools: Python, Pandas, openpyxl"
   ]
  },
  {
   "cell_type": "markdown",
   "id": "593d09a0-d5cb-4ca9-9198-29da5304e5d2",
   "metadata": {},
   "source": [
    "# 📥 Step 1: Load Sales Data"
   ]
  },
  {
   "cell_type": "markdown",
   "id": "530b23ba-0772-486e-9f49-31a5571a71a1",
   "metadata": {},
   "source": [
    "## Reading Data From an Excel File"
   ]
  },
  {
   "cell_type": "markdown",
   "id": "6d108d0b-fe3b-4f8d-97be-0a182d3c3e52",
   "metadata": {},
   "source": [
    "First of all, we will read the data from an excel file using <span style=\"color:blue\">'pandas'</span> module. With the help of <span style=\"color:red\">read_excel()</span> or <span style=\"color:red\">read_csv()</span> method, we can read the Excel File."
   ]
  },
  {
   "cell_type": "code",
   "execution_count": 1,
   "id": "1e0654ab-159c-4429-b489-cd24e738201d",
   "metadata": {},
   "outputs": [],
   "source": [
    "import pandas as pd\n",
    "sales_data = pd.read_csv('ecommerce_sales_data.csv')"
   ]
  },
  {
   "cell_type": "code",
   "execution_count": 2,
   "id": "2d61f0b0-98e4-4d4a-8874-8f97e52187c2",
   "metadata": {},
   "outputs": [
    {
     "data": {
      "text/html": [
       "<div>\n",
       "<style scoped>\n",
       "    .dataframe tbody tr th:only-of-type {\n",
       "        vertical-align: middle;\n",
       "    }\n",
       "\n",
       "    .dataframe tbody tr th {\n",
       "        vertical-align: top;\n",
       "    }\n",
       "\n",
       "    .dataframe thead th {\n",
       "        text-align: right;\n",
       "    }\n",
       "</style>\n",
       "<table border=\"1\" class=\"dataframe\">\n",
       "  <thead>\n",
       "    <tr style=\"text-align: right;\">\n",
       "      <th></th>\n",
       "      <th>Date</th>\n",
       "      <th>Order ID</th>\n",
       "      <th>Customer ID</th>\n",
       "      <th>Region</th>\n",
       "      <th>Product</th>\n",
       "      <th>Category</th>\n",
       "      <th>Units Sold</th>\n",
       "      <th>Unit Price</th>\n",
       "    </tr>\n",
       "  </thead>\n",
       "  <tbody>\n",
       "    <tr>\n",
       "      <th>0</th>\n",
       "      <td>2025-05-12</td>\n",
       "      <td>ORD10000</td>\n",
       "      <td>CUST2203</td>\n",
       "      <td>South</td>\n",
       "      <td>Microwave</td>\n",
       "      <td>Home Appliances</td>\n",
       "      <td>5</td>\n",
       "      <td>150</td>\n",
       "    </tr>\n",
       "    <tr>\n",
       "      <th>1</th>\n",
       "      <td>2025-05-07</td>\n",
       "      <td>ORD10001</td>\n",
       "      <td>CUST9564</td>\n",
       "      <td>North</td>\n",
       "      <td>Tablet</td>\n",
       "      <td>Electronics</td>\n",
       "      <td>6</td>\n",
       "      <td>499</td>\n",
       "    </tr>\n",
       "    <tr>\n",
       "      <th>2</th>\n",
       "      <td>2025-05-29</td>\n",
       "      <td>ORD10002</td>\n",
       "      <td>CUST1272</td>\n",
       "      <td>North</td>\n",
       "      <td>Jacket</td>\n",
       "      <td>Clothing</td>\n",
       "      <td>2</td>\n",
       "      <td>75</td>\n",
       "    </tr>\n",
       "    <tr>\n",
       "      <th>3</th>\n",
       "      <td>2025-05-08</td>\n",
       "      <td>ORD10003</td>\n",
       "      <td>CUST2761</td>\n",
       "      <td>South</td>\n",
       "      <td>Smartphone</td>\n",
       "      <td>Electronics</td>\n",
       "      <td>9</td>\n",
       "      <td>699</td>\n",
       "    </tr>\n",
       "    <tr>\n",
       "      <th>4</th>\n",
       "      <td>2025-05-21</td>\n",
       "      <td>ORD10004</td>\n",
       "      <td>CUST5135</td>\n",
       "      <td>South</td>\n",
       "      <td>Jacket</td>\n",
       "      <td>Clothing</td>\n",
       "      <td>1</td>\n",
       "      <td>75</td>\n",
       "    </tr>\n",
       "    <tr>\n",
       "      <th>...</th>\n",
       "      <td>...</td>\n",
       "      <td>...</td>\n",
       "      <td>...</td>\n",
       "      <td>...</td>\n",
       "      <td>...</td>\n",
       "      <td>...</td>\n",
       "      <td>...</td>\n",
       "      <td>...</td>\n",
       "    </tr>\n",
       "    <tr>\n",
       "      <th>995</th>\n",
       "      <td>2025-05-29</td>\n",
       "      <td>ORD10995</td>\n",
       "      <td>CUST8312</td>\n",
       "      <td>East</td>\n",
       "      <td>Smartphone</td>\n",
       "      <td>Electronics</td>\n",
       "      <td>1</td>\n",
       "      <td>699</td>\n",
       "    </tr>\n",
       "    <tr>\n",
       "      <th>996</th>\n",
       "      <td>2025-05-17</td>\n",
       "      <td>ORD10996</td>\n",
       "      <td>CUST2411</td>\n",
       "      <td>East</td>\n",
       "      <td>Jacket</td>\n",
       "      <td>Clothing</td>\n",
       "      <td>10</td>\n",
       "      <td>75</td>\n",
       "    </tr>\n",
       "    <tr>\n",
       "      <th>997</th>\n",
       "      <td>2025-05-30</td>\n",
       "      <td>ORD10997</td>\n",
       "      <td>CUST2671</td>\n",
       "      <td>South</td>\n",
       "      <td>Microwave</td>\n",
       "      <td>Home Appliances</td>\n",
       "      <td>10</td>\n",
       "      <td>150</td>\n",
       "    </tr>\n",
       "    <tr>\n",
       "      <th>998</th>\n",
       "      <td>2025-05-22</td>\n",
       "      <td>ORD10998</td>\n",
       "      <td>CUST8956</td>\n",
       "      <td>North</td>\n",
       "      <td>T-shirt</td>\n",
       "      <td>Clothing</td>\n",
       "      <td>7</td>\n",
       "      <td>25</td>\n",
       "    </tr>\n",
       "    <tr>\n",
       "      <th>999</th>\n",
       "      <td>2025-05-16</td>\n",
       "      <td>ORD10999</td>\n",
       "      <td>CUST4060</td>\n",
       "      <td>East</td>\n",
       "      <td>Blender</td>\n",
       "      <td>Home Appliances</td>\n",
       "      <td>7</td>\n",
       "      <td>89</td>\n",
       "    </tr>\n",
       "  </tbody>\n",
       "</table>\n",
       "<p>1000 rows × 8 columns</p>\n",
       "</div>"
      ],
      "text/plain": [
       "           Date  Order ID Customer ID Region     Product         Category  \\\n",
       "0    2025-05-12  ORD10000    CUST2203  South   Microwave  Home Appliances   \n",
       "1    2025-05-07  ORD10001    CUST9564  North      Tablet      Electronics   \n",
       "2    2025-05-29  ORD10002    CUST1272  North      Jacket         Clothing   \n",
       "3    2025-05-08  ORD10003    CUST2761  South  Smartphone      Electronics   \n",
       "4    2025-05-21  ORD10004    CUST5135  South      Jacket         Clothing   \n",
       "..          ...       ...         ...    ...         ...              ...   \n",
       "995  2025-05-29  ORD10995    CUST8312   East  Smartphone      Electronics   \n",
       "996  2025-05-17  ORD10996    CUST2411   East      Jacket         Clothing   \n",
       "997  2025-05-30  ORD10997    CUST2671  South   Microwave  Home Appliances   \n",
       "998  2025-05-22  ORD10998    CUST8956  North     T-shirt         Clothing   \n",
       "999  2025-05-16  ORD10999    CUST4060   East     Blender  Home Appliances   \n",
       "\n",
       "     Units Sold  Unit Price  \n",
       "0             5         150  \n",
       "1             6         499  \n",
       "2             2          75  \n",
       "3             9         699  \n",
       "4             1          75  \n",
       "..          ...         ...  \n",
       "995           1         699  \n",
       "996          10          75  \n",
       "997          10         150  \n",
       "998           7          25  \n",
       "999           7          89  \n",
       "\n",
       "[1000 rows x 8 columns]"
      ]
     },
     "execution_count": 2,
     "metadata": {},
     "output_type": "execute_result"
    }
   ],
   "source": [
    "sales_data"
   ]
  },
  {
   "cell_type": "markdown",
   "id": "64e5304f-60bd-40bc-8121-9efef00f7bde",
   "metadata": {},
   "source": [
    "Here, you can see that there are total of 8 columns and 1000 rows. It means there are total of 1000 data entries in 8 field such as\n",
    "Date, Order ID, Customer ID, Region, Product, Category, Units Sold and Unit Price."
   ]
  },
  {
   "cell_type": "markdown",
   "id": "0385d2b6-df59-44fe-b24a-d5903f878e01",
   "metadata": {},
   "source": [
    "Now, Let's add another column which shows the sales per order. And that will be the **'Total Units Sold x Unit Price'**"
   ]
  },
  {
   "cell_type": "markdown",
   "id": "98786f7e-71b8-43ca-a637-572a77e492af",
   "metadata": {},
   "source": [
    "For adding a column, we can use <span style=\"color:red\">insert()</span> method of dataframe object. We want to insert the column\n",
    "at **8th** index. And we'll name the column *'Revenue'*."
   ]
  },
  {
   "cell_type": "code",
   "execution_count": 3,
   "id": "4d9e4a85-be70-494c-8d09-2edbf76cdffa",
   "metadata": {},
   "outputs": [],
   "source": [
    "rev = sales_data['Units Sold'] * sales_data['Unit Price']\n",
    "sales_data.insert(8,'Revenue',rev)"
   ]
  },
  {
   "cell_type": "code",
   "execution_count": 4,
   "id": "f59963ea-7523-4b7a-88cc-ea27d83f6445",
   "metadata": {},
   "outputs": [
    {
     "data": {
      "text/html": [
       "<div>\n",
       "<style scoped>\n",
       "    .dataframe tbody tr th:only-of-type {\n",
       "        vertical-align: middle;\n",
       "    }\n",
       "\n",
       "    .dataframe tbody tr th {\n",
       "        vertical-align: top;\n",
       "    }\n",
       "\n",
       "    .dataframe thead th {\n",
       "        text-align: right;\n",
       "    }\n",
       "</style>\n",
       "<table border=\"1\" class=\"dataframe\">\n",
       "  <thead>\n",
       "    <tr style=\"text-align: right;\">\n",
       "      <th></th>\n",
       "      <th>Date</th>\n",
       "      <th>Order ID</th>\n",
       "      <th>Customer ID</th>\n",
       "      <th>Region</th>\n",
       "      <th>Product</th>\n",
       "      <th>Category</th>\n",
       "      <th>Units Sold</th>\n",
       "      <th>Unit Price</th>\n",
       "      <th>Revenue</th>\n",
       "    </tr>\n",
       "  </thead>\n",
       "  <tbody>\n",
       "    <tr>\n",
       "      <th>0</th>\n",
       "      <td>2025-05-12</td>\n",
       "      <td>ORD10000</td>\n",
       "      <td>CUST2203</td>\n",
       "      <td>South</td>\n",
       "      <td>Microwave</td>\n",
       "      <td>Home Appliances</td>\n",
       "      <td>5</td>\n",
       "      <td>150</td>\n",
       "      <td>750</td>\n",
       "    </tr>\n",
       "    <tr>\n",
       "      <th>1</th>\n",
       "      <td>2025-05-07</td>\n",
       "      <td>ORD10001</td>\n",
       "      <td>CUST9564</td>\n",
       "      <td>North</td>\n",
       "      <td>Tablet</td>\n",
       "      <td>Electronics</td>\n",
       "      <td>6</td>\n",
       "      <td>499</td>\n",
       "      <td>2994</td>\n",
       "    </tr>\n",
       "    <tr>\n",
       "      <th>2</th>\n",
       "      <td>2025-05-29</td>\n",
       "      <td>ORD10002</td>\n",
       "      <td>CUST1272</td>\n",
       "      <td>North</td>\n",
       "      <td>Jacket</td>\n",
       "      <td>Clothing</td>\n",
       "      <td>2</td>\n",
       "      <td>75</td>\n",
       "      <td>150</td>\n",
       "    </tr>\n",
       "    <tr>\n",
       "      <th>3</th>\n",
       "      <td>2025-05-08</td>\n",
       "      <td>ORD10003</td>\n",
       "      <td>CUST2761</td>\n",
       "      <td>South</td>\n",
       "      <td>Smartphone</td>\n",
       "      <td>Electronics</td>\n",
       "      <td>9</td>\n",
       "      <td>699</td>\n",
       "      <td>6291</td>\n",
       "    </tr>\n",
       "    <tr>\n",
       "      <th>4</th>\n",
       "      <td>2025-05-21</td>\n",
       "      <td>ORD10004</td>\n",
       "      <td>CUST5135</td>\n",
       "      <td>South</td>\n",
       "      <td>Jacket</td>\n",
       "      <td>Clothing</td>\n",
       "      <td>1</td>\n",
       "      <td>75</td>\n",
       "      <td>75</td>\n",
       "    </tr>\n",
       "    <tr>\n",
       "      <th>...</th>\n",
       "      <td>...</td>\n",
       "      <td>...</td>\n",
       "      <td>...</td>\n",
       "      <td>...</td>\n",
       "      <td>...</td>\n",
       "      <td>...</td>\n",
       "      <td>...</td>\n",
       "      <td>...</td>\n",
       "      <td>...</td>\n",
       "    </tr>\n",
       "    <tr>\n",
       "      <th>995</th>\n",
       "      <td>2025-05-29</td>\n",
       "      <td>ORD10995</td>\n",
       "      <td>CUST8312</td>\n",
       "      <td>East</td>\n",
       "      <td>Smartphone</td>\n",
       "      <td>Electronics</td>\n",
       "      <td>1</td>\n",
       "      <td>699</td>\n",
       "      <td>699</td>\n",
       "    </tr>\n",
       "    <tr>\n",
       "      <th>996</th>\n",
       "      <td>2025-05-17</td>\n",
       "      <td>ORD10996</td>\n",
       "      <td>CUST2411</td>\n",
       "      <td>East</td>\n",
       "      <td>Jacket</td>\n",
       "      <td>Clothing</td>\n",
       "      <td>10</td>\n",
       "      <td>75</td>\n",
       "      <td>750</td>\n",
       "    </tr>\n",
       "    <tr>\n",
       "      <th>997</th>\n",
       "      <td>2025-05-30</td>\n",
       "      <td>ORD10997</td>\n",
       "      <td>CUST2671</td>\n",
       "      <td>South</td>\n",
       "      <td>Microwave</td>\n",
       "      <td>Home Appliances</td>\n",
       "      <td>10</td>\n",
       "      <td>150</td>\n",
       "      <td>1500</td>\n",
       "    </tr>\n",
       "    <tr>\n",
       "      <th>998</th>\n",
       "      <td>2025-05-22</td>\n",
       "      <td>ORD10998</td>\n",
       "      <td>CUST8956</td>\n",
       "      <td>North</td>\n",
       "      <td>T-shirt</td>\n",
       "      <td>Clothing</td>\n",
       "      <td>7</td>\n",
       "      <td>25</td>\n",
       "      <td>175</td>\n",
       "    </tr>\n",
       "    <tr>\n",
       "      <th>999</th>\n",
       "      <td>2025-05-16</td>\n",
       "      <td>ORD10999</td>\n",
       "      <td>CUST4060</td>\n",
       "      <td>East</td>\n",
       "      <td>Blender</td>\n",
       "      <td>Home Appliances</td>\n",
       "      <td>7</td>\n",
       "      <td>89</td>\n",
       "      <td>623</td>\n",
       "    </tr>\n",
       "  </tbody>\n",
       "</table>\n",
       "<p>1000 rows × 9 columns</p>\n",
       "</div>"
      ],
      "text/plain": [
       "           Date  Order ID Customer ID Region     Product         Category  \\\n",
       "0    2025-05-12  ORD10000    CUST2203  South   Microwave  Home Appliances   \n",
       "1    2025-05-07  ORD10001    CUST9564  North      Tablet      Electronics   \n",
       "2    2025-05-29  ORD10002    CUST1272  North      Jacket         Clothing   \n",
       "3    2025-05-08  ORD10003    CUST2761  South  Smartphone      Electronics   \n",
       "4    2025-05-21  ORD10004    CUST5135  South      Jacket         Clothing   \n",
       "..          ...       ...         ...    ...         ...              ...   \n",
       "995  2025-05-29  ORD10995    CUST8312   East  Smartphone      Electronics   \n",
       "996  2025-05-17  ORD10996    CUST2411   East      Jacket         Clothing   \n",
       "997  2025-05-30  ORD10997    CUST2671  South   Microwave  Home Appliances   \n",
       "998  2025-05-22  ORD10998    CUST8956  North     T-shirt         Clothing   \n",
       "999  2025-05-16  ORD10999    CUST4060   East     Blender  Home Appliances   \n",
       "\n",
       "     Units Sold  Unit Price  Revenue  \n",
       "0             5         150      750  \n",
       "1             6         499     2994  \n",
       "2             2          75      150  \n",
       "3             9         699     6291  \n",
       "4             1          75       75  \n",
       "..          ...         ...      ...  \n",
       "995           1         699      699  \n",
       "996          10          75      750  \n",
       "997          10         150     1500  \n",
       "998           7          25      175  \n",
       "999           7          89      623  \n",
       "\n",
       "[1000 rows x 9 columns]"
      ]
     },
     "execution_count": 4,
     "metadata": {},
     "output_type": "execute_result"
    }
   ],
   "source": [
    "sales_data"
   ]
  },
  {
   "cell_type": "markdown",
   "id": "d08cc7b2-3b0f-4634-972e-b1e25a011a53",
   "metadata": {},
   "source": [
    "# 📊 Step 2: Generate Summary"
   ]
  },
  {
   "cell_type": "markdown",
   "id": "52dc2cbf-8d59-4715-a2ed-eef9a3e45ace",
   "metadata": {},
   "source": [
    "## Calculating Monthly Sales"
   ]
  },
  {
   "cell_type": "markdown",
   "id": "79f859dd-c29d-46e6-ae24-14c85c726c50",
   "metadata": {},
   "source": [
    "Now, we'll convert the date from the dataframe into the datetime object, so that we can access the month from the date easily."
   ]
  },
  {
   "cell_type": "code",
   "execution_count": 5,
   "id": "ab506728-6e97-44f8-b00b-53cba164f12f",
   "metadata": {},
   "outputs": [
    {
     "data": {
      "text/plain": [
       "'2025-05-12'"
      ]
     },
     "execution_count": 5,
     "metadata": {},
     "output_type": "execute_result"
    }
   ],
   "source": [
    "sales_data['Date'][0]"
   ]
  },
  {
   "cell_type": "markdown",
   "id": "dfda883a-4321-4c37-ac70-938a822f18c8",
   "metadata": {},
   "source": [
    "Here, you can see that it is already in datetime format. So, just in case if the date is stored in string format then we will use <span style=\"color:red\">to_datetime()</span> method of pandas library to convert the dataframe object into *datetime* object."
   ]
  },
  {
   "cell_type": "code",
   "execution_count": 6,
   "id": "fb1dc4fd-f505-46fb-9773-e798af9cb8a6",
   "metadata": {},
   "outputs": [
    {
     "data": {
      "text/plain": [
       "datetime.date(2025, 5, 12)"
      ]
     },
     "execution_count": 6,
     "metadata": {},
     "output_type": "execute_result"
    }
   ],
   "source": [
    "sales_data['Date'] = pd.to_datetime(sales_data['Date']).dt.date\n",
    "sales_data['Date'][0]"
   ]
  },
  {
   "cell_type": "markdown",
   "id": "ea150caf-c704-4d6a-ac50-f487d795ade9",
   "metadata": {},
   "source": [
    "After that, you can check that it is converted into datetime object. Using the <span style=\"color:red\">groupby()</span> function we can \n",
    "calculate the monthly revenue generated."
   ]
  },
  {
   "cell_type": "code",
   "execution_count": 7,
   "id": "982b262c-7f5a-42dd-88dc-9bd28d13c1bc",
   "metadata": {},
   "outputs": [
    {
     "data": {
      "text/plain": [
       "5    1337398\n",
       "Name: Revenue, dtype: int64"
      ]
     },
     "execution_count": 7,
     "metadata": {},
     "output_type": "execute_result"
    }
   ],
   "source": [
    "monthly_sales = sales_data.groupby(lambda x: sales_data['Date'][x].month).Revenue.sum()\n",
    "monthly_sales"
   ]
  },
  {
   "cell_type": "code",
   "execution_count": 8,
   "id": "83cc8982-a491-4201-8678-80bd5f7d4801",
   "metadata": {},
   "outputs": [
    {
     "name": "stdout",
     "output_type": "stream",
     "text": [
      "Revenue: $750\n"
     ]
    }
   ],
   "source": [
    "print(f'Revenue: ${rev.tolist()[0]}')"
   ]
  },
  {
   "cell_type": "markdown",
   "id": "ce52619b-c4dd-46df-9827-cd8742491f6d",
   "metadata": {},
   "source": [
    "So, total of *$13,37,398* revenue generated in the **5th(May)** month."
   ]
  },
  {
   "cell_type": "markdown",
   "id": "3690185b-6f12-4a36-ba01-3e33b6aead8f",
   "metadata": {},
   "source": [
    "## Sales by Product, Region & Category"
   ]
  },
  {
   "cell_type": "markdown",
   "id": "a94e4097-f019-4391-8801-76c992ed9571",
   "metadata": {},
   "source": [
    "For calculating Sales by Product, we will use the <span style=\"color:red\">groupby()</span> function to make a table which\n",
    "contains Product name, Units Sold, Unit Price and Revenue."
   ]
  },
  {
   "cell_type": "code",
   "execution_count": 9,
   "id": "d4ca38aa-c25b-4c0d-a190-96d597f63fff",
   "metadata": {},
   "outputs": [
    {
     "data": {
      "text/html": [
       "<div>\n",
       "<style scoped>\n",
       "    .dataframe tbody tr th:only-of-type {\n",
       "        vertical-align: middle;\n",
       "    }\n",
       "\n",
       "    .dataframe tbody tr th {\n",
       "        vertical-align: top;\n",
       "    }\n",
       "\n",
       "    .dataframe thead th {\n",
       "        text-align: right;\n",
       "    }\n",
       "</style>\n",
       "<table border=\"1\" class=\"dataframe\">\n",
       "  <thead>\n",
       "    <tr style=\"text-align: right;\">\n",
       "      <th></th>\n",
       "      <th>Product</th>\n",
       "      <th>Units Sold</th>\n",
       "      <th>Unit Price</th>\n",
       "      <th>Revenue</th>\n",
       "    </tr>\n",
       "  </thead>\n",
       "  <tbody>\n",
       "    <tr>\n",
       "      <th>0</th>\n",
       "      <td>Microwave</td>\n",
       "      <td>5</td>\n",
       "      <td>150</td>\n",
       "      <td>750</td>\n",
       "    </tr>\n",
       "    <tr>\n",
       "      <th>1</th>\n",
       "      <td>Tablet</td>\n",
       "      <td>6</td>\n",
       "      <td>499</td>\n",
       "      <td>2994</td>\n",
       "    </tr>\n",
       "    <tr>\n",
       "      <th>2</th>\n",
       "      <td>Jacket</td>\n",
       "      <td>2</td>\n",
       "      <td>75</td>\n",
       "      <td>150</td>\n",
       "    </tr>\n",
       "    <tr>\n",
       "      <th>3</th>\n",
       "      <td>Smartphone</td>\n",
       "      <td>9</td>\n",
       "      <td>699</td>\n",
       "      <td>6291</td>\n",
       "    </tr>\n",
       "    <tr>\n",
       "      <th>4</th>\n",
       "      <td>Jacket</td>\n",
       "      <td>1</td>\n",
       "      <td>75</td>\n",
       "      <td>75</td>\n",
       "    </tr>\n",
       "    <tr>\n",
       "      <th>...</th>\n",
       "      <td>...</td>\n",
       "      <td>...</td>\n",
       "      <td>...</td>\n",
       "      <td>...</td>\n",
       "    </tr>\n",
       "    <tr>\n",
       "      <th>995</th>\n",
       "      <td>Smartphone</td>\n",
       "      <td>1</td>\n",
       "      <td>699</td>\n",
       "      <td>699</td>\n",
       "    </tr>\n",
       "    <tr>\n",
       "      <th>996</th>\n",
       "      <td>Jacket</td>\n",
       "      <td>10</td>\n",
       "      <td>75</td>\n",
       "      <td>750</td>\n",
       "    </tr>\n",
       "    <tr>\n",
       "      <th>997</th>\n",
       "      <td>Microwave</td>\n",
       "      <td>10</td>\n",
       "      <td>150</td>\n",
       "      <td>1500</td>\n",
       "    </tr>\n",
       "    <tr>\n",
       "      <th>998</th>\n",
       "      <td>T-shirt</td>\n",
       "      <td>7</td>\n",
       "      <td>25</td>\n",
       "      <td>175</td>\n",
       "    </tr>\n",
       "    <tr>\n",
       "      <th>999</th>\n",
       "      <td>Blender</td>\n",
       "      <td>7</td>\n",
       "      <td>89</td>\n",
       "      <td>623</td>\n",
       "    </tr>\n",
       "  </tbody>\n",
       "</table>\n",
       "<p>1000 rows × 4 columns</p>\n",
       "</div>"
      ],
      "text/plain": [
       "        Product  Units Sold  Unit Price  Revenue\n",
       "0     Microwave           5         150      750\n",
       "1        Tablet           6         499     2994\n",
       "2        Jacket           2          75      150\n",
       "3    Smartphone           9         699     6291\n",
       "4        Jacket           1          75       75\n",
       "..          ...         ...         ...      ...\n",
       "995  Smartphone           1         699      699\n",
       "996      Jacket          10          75      750\n",
       "997   Microwave          10         150     1500\n",
       "998     T-shirt           7          25      175\n",
       "999     Blender           7          89      623\n",
       "\n",
       "[1000 rows x 4 columns]"
      ]
     },
     "execution_count": 9,
     "metadata": {},
     "output_type": "execute_result"
    }
   ],
   "source": [
    "sales_data[['Product','Units Sold','Unit Price','Revenue']]"
   ]
  },
  {
   "cell_type": "markdown",
   "id": "3abc1590-8139-48bc-8cee-bc2a9b4c6c33",
   "metadata": {},
   "source": [
    "So, our table contains these specific columns, which will make easier for us to see the total revenue generate by each product."
   ]
  },
  {
   "cell_type": "code",
   "execution_count": 10,
   "id": "d8408101-55ae-44a4-b61c-5f361dea89ef",
   "metadata": {},
   "outputs": [],
   "source": [
    "product_sales = sales_data.groupby('Product').agg({\n",
    "    \"Units Sold\": \"sum\",\n",
    "    \"Unit Price\": \"first\",\n",
    "    \"Revenue\": \"sum\"\n",
    "}).reset_index()"
   ]
  },
  {
   "cell_type": "code",
   "execution_count": 11,
   "id": "83425f49-0880-40f4-b9e7-4f3eb8dd14ec",
   "metadata": {},
   "outputs": [
    {
     "data": {
      "text/html": [
       "<div>\n",
       "<style scoped>\n",
       "    .dataframe tbody tr th:only-of-type {\n",
       "        vertical-align: middle;\n",
       "    }\n",
       "\n",
       "    .dataframe tbody tr th {\n",
       "        vertical-align: top;\n",
       "    }\n",
       "\n",
       "    .dataframe thead th {\n",
       "        text-align: right;\n",
       "    }\n",
       "</style>\n",
       "<table border=\"1\" class=\"dataframe\">\n",
       "  <thead>\n",
       "    <tr style=\"text-align: right;\">\n",
       "      <th></th>\n",
       "      <th>Product</th>\n",
       "      <th>Units Sold</th>\n",
       "      <th>Unit Price</th>\n",
       "      <th>Revenue</th>\n",
       "    </tr>\n",
       "  </thead>\n",
       "  <tbody>\n",
       "    <tr>\n",
       "      <th>0</th>\n",
       "      <td>Action Figure</td>\n",
       "      <td>380</td>\n",
       "      <td>30</td>\n",
       "      <td>11400</td>\n",
       "    </tr>\n",
       "    <tr>\n",
       "      <th>1</th>\n",
       "      <td>Air Conditioner</td>\n",
       "      <td>331</td>\n",
       "      <td>399</td>\n",
       "      <td>132069</td>\n",
       "    </tr>\n",
       "    <tr>\n",
       "      <th>2</th>\n",
       "      <td>Blender</td>\n",
       "      <td>572</td>\n",
       "      <td>89</td>\n",
       "      <td>50908</td>\n",
       "    </tr>\n",
       "    <tr>\n",
       "      <th>3</th>\n",
       "      <td>Board Game</td>\n",
       "      <td>537</td>\n",
       "      <td>40</td>\n",
       "      <td>21480</td>\n",
       "    </tr>\n",
       "    <tr>\n",
       "      <th>4</th>\n",
       "      <td>Jacket</td>\n",
       "      <td>460</td>\n",
       "      <td>75</td>\n",
       "      <td>34500</td>\n",
       "    </tr>\n",
       "    <tr>\n",
       "      <th>5</th>\n",
       "      <td>Jeans</td>\n",
       "      <td>443</td>\n",
       "      <td>50</td>\n",
       "      <td>22150</td>\n",
       "    </tr>\n",
       "    <tr>\n",
       "      <th>6</th>\n",
       "      <td>Laptop</td>\n",
       "      <td>430</td>\n",
       "      <td>999</td>\n",
       "      <td>429570</td>\n",
       "    </tr>\n",
       "    <tr>\n",
       "      <th>7</th>\n",
       "      <td>Microwave</td>\n",
       "      <td>487</td>\n",
       "      <td>150</td>\n",
       "      <td>73050</td>\n",
       "    </tr>\n",
       "    <tr>\n",
       "      <th>8</th>\n",
       "      <td>Puzzle</td>\n",
       "      <td>466</td>\n",
       "      <td>20</td>\n",
       "      <td>9320</td>\n",
       "    </tr>\n",
       "    <tr>\n",
       "      <th>9</th>\n",
       "      <td>Smartphone</td>\n",
       "      <td>410</td>\n",
       "      <td>699</td>\n",
       "      <td>286590</td>\n",
       "    </tr>\n",
       "    <tr>\n",
       "      <th>10</th>\n",
       "      <td>T-shirt</td>\n",
       "      <td>395</td>\n",
       "      <td>25</td>\n",
       "      <td>9875</td>\n",
       "    </tr>\n",
       "    <tr>\n",
       "      <th>11</th>\n",
       "      <td>Tablet</td>\n",
       "      <td>514</td>\n",
       "      <td>499</td>\n",
       "      <td>256486</td>\n",
       "    </tr>\n",
       "  </tbody>\n",
       "</table>\n",
       "</div>"
      ],
      "text/plain": [
       "            Product  Units Sold  Unit Price  Revenue\n",
       "0     Action Figure         380          30    11400\n",
       "1   Air Conditioner         331         399   132069\n",
       "2           Blender         572          89    50908\n",
       "3        Board Game         537          40    21480\n",
       "4            Jacket         460          75    34500\n",
       "5             Jeans         443          50    22150\n",
       "6            Laptop         430         999   429570\n",
       "7         Microwave         487         150    73050\n",
       "8            Puzzle         466          20     9320\n",
       "9        Smartphone         410         699   286590\n",
       "10          T-shirt         395          25     9875\n",
       "11           Tablet         514         499   256486"
      ]
     },
     "execution_count": 11,
     "metadata": {},
     "output_type": "execute_result"
    }
   ],
   "source": [
    "product_sales"
   ]
  },
  {
   "cell_type": "markdown",
   "id": "3e8e101b-4bd0-433e-8886-86862c88103d",
   "metadata": {},
   "source": [
    "Here, we have created a table which shows us the revenue generated by each product. <br>\n",
    "Similarly, We can also calculate revenue generated by each region & category. "
   ]
  },
  {
   "cell_type": "code",
   "execution_count": 12,
   "id": "068c9df0-500d-4f57-b2ce-7a79a993eb67",
   "metadata": {},
   "outputs": [],
   "source": [
    "region_sales = sales_data.groupby('Region').agg({\n",
    "    \"Units Sold\": \"sum\",\n",
    "    \"Unit Price\": \"first\",\n",
    "    \"Revenue\": \"sum\"\n",
    "}).reset_index()"
   ]
  },
  {
   "cell_type": "code",
   "execution_count": 13,
   "id": "25a86ee7-53e5-469c-b082-8bdabb366b29",
   "metadata": {},
   "outputs": [
    {
     "data": {
      "text/html": [
       "<div>\n",
       "<style scoped>\n",
       "    .dataframe tbody tr th:only-of-type {\n",
       "        vertical-align: middle;\n",
       "    }\n",
       "\n",
       "    .dataframe tbody tr th {\n",
       "        vertical-align: top;\n",
       "    }\n",
       "\n",
       "    .dataframe thead th {\n",
       "        text-align: right;\n",
       "    }\n",
       "</style>\n",
       "<table border=\"1\" class=\"dataframe\">\n",
       "  <thead>\n",
       "    <tr style=\"text-align: right;\">\n",
       "      <th></th>\n",
       "      <th>Region</th>\n",
       "      <th>Units Sold</th>\n",
       "      <th>Unit Price</th>\n",
       "      <th>Revenue</th>\n",
       "    </tr>\n",
       "  </thead>\n",
       "  <tbody>\n",
       "    <tr>\n",
       "      <th>0</th>\n",
       "      <td>East</td>\n",
       "      <td>1543</td>\n",
       "      <td>40</td>\n",
       "      <td>402162</td>\n",
       "    </tr>\n",
       "    <tr>\n",
       "      <th>1</th>\n",
       "      <td>North</td>\n",
       "      <td>1305</td>\n",
       "      <td>499</td>\n",
       "      <td>270592</td>\n",
       "    </tr>\n",
       "    <tr>\n",
       "      <th>2</th>\n",
       "      <td>South</td>\n",
       "      <td>1181</td>\n",
       "      <td>150</td>\n",
       "      <td>298314</td>\n",
       "    </tr>\n",
       "    <tr>\n",
       "      <th>3</th>\n",
       "      <td>West</td>\n",
       "      <td>1396</td>\n",
       "      <td>25</td>\n",
       "      <td>366330</td>\n",
       "    </tr>\n",
       "  </tbody>\n",
       "</table>\n",
       "</div>"
      ],
      "text/plain": [
       "  Region  Units Sold  Unit Price  Revenue\n",
       "0   East        1543          40   402162\n",
       "1  North        1305         499   270592\n",
       "2  South        1181         150   298314\n",
       "3   West        1396          25   366330"
      ]
     },
     "execution_count": 13,
     "metadata": {},
     "output_type": "execute_result"
    }
   ],
   "source": [
    "region_sales"
   ]
  },
  {
   "cell_type": "code",
   "execution_count": 14,
   "id": "d88eb011-c9c2-4b65-8620-abf11c6a7b11",
   "metadata": {},
   "outputs": [],
   "source": [
    "category_sales = sales_data.groupby('Category').agg({\n",
    "    \"Units Sold\": \"sum\",\n",
    "    \"Unit Price\": \"first\",\n",
    "    \"Revenue\": \"sum\"\n",
    "}).reset_index()"
   ]
  },
  {
   "cell_type": "code",
   "execution_count": 15,
   "id": "df0c83c5-47bd-479e-9470-88b7ca81db87",
   "metadata": {},
   "outputs": [
    {
     "data": {
      "text/html": [
       "<div>\n",
       "<style scoped>\n",
       "    .dataframe tbody tr th:only-of-type {\n",
       "        vertical-align: middle;\n",
       "    }\n",
       "\n",
       "    .dataframe tbody tr th {\n",
       "        vertical-align: top;\n",
       "    }\n",
       "\n",
       "    .dataframe thead th {\n",
       "        text-align: right;\n",
       "    }\n",
       "</style>\n",
       "<table border=\"1\" class=\"dataframe\">\n",
       "  <thead>\n",
       "    <tr style=\"text-align: right;\">\n",
       "      <th></th>\n",
       "      <th>Category</th>\n",
       "      <th>Units Sold</th>\n",
       "      <th>Unit Price</th>\n",
       "      <th>Revenue</th>\n",
       "    </tr>\n",
       "  </thead>\n",
       "  <tbody>\n",
       "    <tr>\n",
       "      <th>0</th>\n",
       "      <td>Clothing</td>\n",
       "      <td>1298</td>\n",
       "      <td>75</td>\n",
       "      <td>66525</td>\n",
       "    </tr>\n",
       "    <tr>\n",
       "      <th>1</th>\n",
       "      <td>Electronics</td>\n",
       "      <td>1354</td>\n",
       "      <td>499</td>\n",
       "      <td>972646</td>\n",
       "    </tr>\n",
       "    <tr>\n",
       "      <th>2</th>\n",
       "      <td>Home Appliances</td>\n",
       "      <td>1390</td>\n",
       "      <td>150</td>\n",
       "      <td>256027</td>\n",
       "    </tr>\n",
       "    <tr>\n",
       "      <th>3</th>\n",
       "      <td>Toys</td>\n",
       "      <td>1383</td>\n",
       "      <td>30</td>\n",
       "      <td>42200</td>\n",
       "    </tr>\n",
       "  </tbody>\n",
       "</table>\n",
       "</div>"
      ],
      "text/plain": [
       "          Category  Units Sold  Unit Price  Revenue\n",
       "0         Clothing        1298          75    66525\n",
       "1      Electronics        1354         499   972646\n",
       "2  Home Appliances        1390         150   256027\n",
       "3             Toys        1383          30    42200"
      ]
     },
     "execution_count": 15,
     "metadata": {},
     "output_type": "execute_result"
    }
   ],
   "source": [
    "category_sales"
   ]
  },
  {
   "cell_type": "markdown",
   "id": "92d7b51e-1bae-421c-82d0-d03ab9cabcc6",
   "metadata": {},
   "source": [
    "We've Covered the *'Sales done in each month'*, *'Sales by each product'*, *'Sales by each Region'*, *'Sales by each Category'*."
   ]
  },
  {
   "cell_type": "markdown",
   "id": "13467887-c48a-4d70-8fd0-d835129746ef",
   "metadata": {},
   "source": [
    "## Getting Revenue by Week"
   ]
  },
  {
   "cell_type": "markdown",
   "id": "5d02da32-4d77-4154-8a84-97bd7dadbaa3",
   "metadata": {},
   "source": [
    "Let's begin by calculating how many total orders are there in a month & how many total units sold."
   ]
  },
  {
   "cell_type": "code",
   "execution_count": 16,
   "id": "375c1856-9f4c-4fea-86bc-1c9f8392c0c6",
   "metadata": {},
   "outputs": [],
   "source": [
    "df_summary = pd.DataFrame([{\"Total Revenue\": sales_data[\"Revenue\"].sum(),\n",
    "                            \"Total Order\": sales_data[\"Order ID\"].count(),\n",
    "                            \"Total Units Sold\": sales_data[\"Units Sold\"].sum()}])"
   ]
  },
  {
   "cell_type": "code",
   "execution_count": 17,
   "id": "1426e874-c7e6-4d3a-a174-7b9d245806d8",
   "metadata": {},
   "outputs": [
    {
     "data": {
      "text/html": [
       "<div>\n",
       "<style scoped>\n",
       "    .dataframe tbody tr th:only-of-type {\n",
       "        vertical-align: middle;\n",
       "    }\n",
       "\n",
       "    .dataframe tbody tr th {\n",
       "        vertical-align: top;\n",
       "    }\n",
       "\n",
       "    .dataframe thead th {\n",
       "        text-align: right;\n",
       "    }\n",
       "</style>\n",
       "<table border=\"1\" class=\"dataframe\">\n",
       "  <thead>\n",
       "    <tr style=\"text-align: right;\">\n",
       "      <th></th>\n",
       "      <th>Total Revenue</th>\n",
       "      <th>Total Order</th>\n",
       "      <th>Total Units Sold</th>\n",
       "    </tr>\n",
       "  </thead>\n",
       "  <tbody>\n",
       "    <tr>\n",
       "      <th>0</th>\n",
       "      <td>1337398</td>\n",
       "      <td>1000</td>\n",
       "      <td>5425</td>\n",
       "    </tr>\n",
       "  </tbody>\n",
       "</table>\n",
       "</div>"
      ],
      "text/plain": [
       "   Total Revenue  Total Order  Total Units Sold\n",
       "0        1337398         1000              5425"
      ]
     },
     "execution_count": 17,
     "metadata": {},
     "output_type": "execute_result"
    }
   ],
   "source": [
    "df_summary"
   ]
  },
  {
   "cell_type": "markdown",
   "id": "c93d7288-08ee-4b63-b875-0486eac4701c",
   "metadata": {},
   "source": [
    "Now, let's get sales by week in the month. For doing so, we'll use the <span style=\"color:red\">isocalender()</span> method from the\n",
    "**datetime** Library."
   ]
  },
  {
   "cell_type": "code",
   "execution_count": 18,
   "id": "9505de3d-23b0-4817-aecf-29d0023bef06",
   "metadata": {},
   "outputs": [],
   "source": [
    "from datetime import datetime\n",
    "\n",
    "def get_week_of_month(date):\n",
    "    first_day_of_month = date.replace(day=1)\n",
    "    week_number = date.isocalendar()[1] - first_day_of_month.isocalendar()[1] + 1\n",
    "    return week_number"
   ]
  },
  {
   "cell_type": "code",
   "execution_count": 19,
   "id": "1344752e-c7bd-41e6-b00e-9c0be8c7435c",
   "metadata": {},
   "outputs": [],
   "source": [
    "sales_data['Week'] = sales_data['Date'].apply(get_week_of_month)"
   ]
  },
  {
   "cell_type": "code",
   "execution_count": 20,
   "id": "d4e5d901-d7ed-4c66-a427-f907c36c1e73",
   "metadata": {},
   "outputs": [
    {
     "data": {
      "text/html": [
       "<div>\n",
       "<style scoped>\n",
       "    .dataframe tbody tr th:only-of-type {\n",
       "        vertical-align: middle;\n",
       "    }\n",
       "\n",
       "    .dataframe tbody tr th {\n",
       "        vertical-align: top;\n",
       "    }\n",
       "\n",
       "    .dataframe thead th {\n",
       "        text-align: right;\n",
       "    }\n",
       "</style>\n",
       "<table border=\"1\" class=\"dataframe\">\n",
       "  <thead>\n",
       "    <tr style=\"text-align: right;\">\n",
       "      <th></th>\n",
       "      <th>Date</th>\n",
       "      <th>Order ID</th>\n",
       "      <th>Customer ID</th>\n",
       "      <th>Region</th>\n",
       "      <th>Product</th>\n",
       "      <th>Category</th>\n",
       "      <th>Units Sold</th>\n",
       "      <th>Unit Price</th>\n",
       "      <th>Revenue</th>\n",
       "      <th>Week</th>\n",
       "    </tr>\n",
       "  </thead>\n",
       "  <tbody>\n",
       "    <tr>\n",
       "      <th>0</th>\n",
       "      <td>2025-05-12</td>\n",
       "      <td>ORD10000</td>\n",
       "      <td>CUST2203</td>\n",
       "      <td>South</td>\n",
       "      <td>Microwave</td>\n",
       "      <td>Home Appliances</td>\n",
       "      <td>5</td>\n",
       "      <td>150</td>\n",
       "      <td>750</td>\n",
       "      <td>3</td>\n",
       "    </tr>\n",
       "    <tr>\n",
       "      <th>1</th>\n",
       "      <td>2025-05-07</td>\n",
       "      <td>ORD10001</td>\n",
       "      <td>CUST9564</td>\n",
       "      <td>North</td>\n",
       "      <td>Tablet</td>\n",
       "      <td>Electronics</td>\n",
       "      <td>6</td>\n",
       "      <td>499</td>\n",
       "      <td>2994</td>\n",
       "      <td>2</td>\n",
       "    </tr>\n",
       "    <tr>\n",
       "      <th>2</th>\n",
       "      <td>2025-05-29</td>\n",
       "      <td>ORD10002</td>\n",
       "      <td>CUST1272</td>\n",
       "      <td>North</td>\n",
       "      <td>Jacket</td>\n",
       "      <td>Clothing</td>\n",
       "      <td>2</td>\n",
       "      <td>75</td>\n",
       "      <td>150</td>\n",
       "      <td>5</td>\n",
       "    </tr>\n",
       "    <tr>\n",
       "      <th>3</th>\n",
       "      <td>2025-05-08</td>\n",
       "      <td>ORD10003</td>\n",
       "      <td>CUST2761</td>\n",
       "      <td>South</td>\n",
       "      <td>Smartphone</td>\n",
       "      <td>Electronics</td>\n",
       "      <td>9</td>\n",
       "      <td>699</td>\n",
       "      <td>6291</td>\n",
       "      <td>2</td>\n",
       "    </tr>\n",
       "    <tr>\n",
       "      <th>4</th>\n",
       "      <td>2025-05-21</td>\n",
       "      <td>ORD10004</td>\n",
       "      <td>CUST5135</td>\n",
       "      <td>South</td>\n",
       "      <td>Jacket</td>\n",
       "      <td>Clothing</td>\n",
       "      <td>1</td>\n",
       "      <td>75</td>\n",
       "      <td>75</td>\n",
       "      <td>4</td>\n",
       "    </tr>\n",
       "    <tr>\n",
       "      <th>...</th>\n",
       "      <td>...</td>\n",
       "      <td>...</td>\n",
       "      <td>...</td>\n",
       "      <td>...</td>\n",
       "      <td>...</td>\n",
       "      <td>...</td>\n",
       "      <td>...</td>\n",
       "      <td>...</td>\n",
       "      <td>...</td>\n",
       "      <td>...</td>\n",
       "    </tr>\n",
       "    <tr>\n",
       "      <th>995</th>\n",
       "      <td>2025-05-29</td>\n",
       "      <td>ORD10995</td>\n",
       "      <td>CUST8312</td>\n",
       "      <td>East</td>\n",
       "      <td>Smartphone</td>\n",
       "      <td>Electronics</td>\n",
       "      <td>1</td>\n",
       "      <td>699</td>\n",
       "      <td>699</td>\n",
       "      <td>5</td>\n",
       "    </tr>\n",
       "    <tr>\n",
       "      <th>996</th>\n",
       "      <td>2025-05-17</td>\n",
       "      <td>ORD10996</td>\n",
       "      <td>CUST2411</td>\n",
       "      <td>East</td>\n",
       "      <td>Jacket</td>\n",
       "      <td>Clothing</td>\n",
       "      <td>10</td>\n",
       "      <td>75</td>\n",
       "      <td>750</td>\n",
       "      <td>3</td>\n",
       "    </tr>\n",
       "    <tr>\n",
       "      <th>997</th>\n",
       "      <td>2025-05-30</td>\n",
       "      <td>ORD10997</td>\n",
       "      <td>CUST2671</td>\n",
       "      <td>South</td>\n",
       "      <td>Microwave</td>\n",
       "      <td>Home Appliances</td>\n",
       "      <td>10</td>\n",
       "      <td>150</td>\n",
       "      <td>1500</td>\n",
       "      <td>5</td>\n",
       "    </tr>\n",
       "    <tr>\n",
       "      <th>998</th>\n",
       "      <td>2025-05-22</td>\n",
       "      <td>ORD10998</td>\n",
       "      <td>CUST8956</td>\n",
       "      <td>North</td>\n",
       "      <td>T-shirt</td>\n",
       "      <td>Clothing</td>\n",
       "      <td>7</td>\n",
       "      <td>25</td>\n",
       "      <td>175</td>\n",
       "      <td>4</td>\n",
       "    </tr>\n",
       "    <tr>\n",
       "      <th>999</th>\n",
       "      <td>2025-05-16</td>\n",
       "      <td>ORD10999</td>\n",
       "      <td>CUST4060</td>\n",
       "      <td>East</td>\n",
       "      <td>Blender</td>\n",
       "      <td>Home Appliances</td>\n",
       "      <td>7</td>\n",
       "      <td>89</td>\n",
       "      <td>623</td>\n",
       "      <td>3</td>\n",
       "    </tr>\n",
       "  </tbody>\n",
       "</table>\n",
       "<p>1000 rows × 10 columns</p>\n",
       "</div>"
      ],
      "text/plain": [
       "           Date  Order ID Customer ID Region     Product         Category  \\\n",
       "0    2025-05-12  ORD10000    CUST2203  South   Microwave  Home Appliances   \n",
       "1    2025-05-07  ORD10001    CUST9564  North      Tablet      Electronics   \n",
       "2    2025-05-29  ORD10002    CUST1272  North      Jacket         Clothing   \n",
       "3    2025-05-08  ORD10003    CUST2761  South  Smartphone      Electronics   \n",
       "4    2025-05-21  ORD10004    CUST5135  South      Jacket         Clothing   \n",
       "..          ...       ...         ...    ...         ...              ...   \n",
       "995  2025-05-29  ORD10995    CUST8312   East  Smartphone      Electronics   \n",
       "996  2025-05-17  ORD10996    CUST2411   East      Jacket         Clothing   \n",
       "997  2025-05-30  ORD10997    CUST2671  South   Microwave  Home Appliances   \n",
       "998  2025-05-22  ORD10998    CUST8956  North     T-shirt         Clothing   \n",
       "999  2025-05-16  ORD10999    CUST4060   East     Blender  Home Appliances   \n",
       "\n",
       "     Units Sold  Unit Price  Revenue  Week  \n",
       "0             5         150      750     3  \n",
       "1             6         499     2994     2  \n",
       "2             2          75      150     5  \n",
       "3             9         699     6291     2  \n",
       "4             1          75       75     4  \n",
       "..          ...         ...      ...   ...  \n",
       "995           1         699      699     5  \n",
       "996          10          75      750     3  \n",
       "997          10         150     1500     5  \n",
       "998           7          25      175     4  \n",
       "999           7          89      623     3  \n",
       "\n",
       "[1000 rows x 10 columns]"
      ]
     },
     "execution_count": 20,
     "metadata": {},
     "output_type": "execute_result"
    }
   ],
   "source": [
    "sales_data"
   ]
  },
  {
   "cell_type": "markdown",
   "id": "f47ccdd6-25b1-4370-a636-d6280c81938a",
   "metadata": {},
   "source": [
    "Here, you can see that the Week column is added to the last column saying the which number of week from the date.<br>\n",
    "Now, let's see the sales weekly."
   ]
  },
  {
   "cell_type": "code",
   "execution_count": 21,
   "id": "9bb2cda0-b9c2-4030-9e88-947796e147de",
   "metadata": {},
   "outputs": [
    {
     "data": {
      "text/html": [
       "<div>\n",
       "<style scoped>\n",
       "    .dataframe tbody tr th:only-of-type {\n",
       "        vertical-align: middle;\n",
       "    }\n",
       "\n",
       "    .dataframe tbody tr th {\n",
       "        vertical-align: top;\n",
       "    }\n",
       "\n",
       "    .dataframe thead th {\n",
       "        text-align: right;\n",
       "    }\n",
       "</style>\n",
       "<table border=\"1\" class=\"dataframe\">\n",
       "  <thead>\n",
       "    <tr style=\"text-align: right;\">\n",
       "      <th></th>\n",
       "      <th>Week</th>\n",
       "      <th>Revenue</th>\n",
       "    </tr>\n",
       "  </thead>\n",
       "  <tbody>\n",
       "    <tr>\n",
       "      <th>0</th>\n",
       "      <td>1</td>\n",
       "      <td>186042</td>\n",
       "    </tr>\n",
       "    <tr>\n",
       "      <th>1</th>\n",
       "      <td>2</td>\n",
       "      <td>345674</td>\n",
       "    </tr>\n",
       "    <tr>\n",
       "      <th>2</th>\n",
       "      <td>3</td>\n",
       "      <td>287125</td>\n",
       "    </tr>\n",
       "    <tr>\n",
       "      <th>3</th>\n",
       "      <td>4</td>\n",
       "      <td>302749</td>\n",
       "    </tr>\n",
       "    <tr>\n",
       "      <th>4</th>\n",
       "      <td>5</td>\n",
       "      <td>215808</td>\n",
       "    </tr>\n",
       "  </tbody>\n",
       "</table>\n",
       "</div>"
      ],
      "text/plain": [
       "   Week  Revenue\n",
       "0     1   186042\n",
       "1     2   345674\n",
       "2     3   287125\n",
       "3     4   302749\n",
       "4     5   215808"
      ]
     },
     "execution_count": 21,
     "metadata": {},
     "output_type": "execute_result"
    }
   ],
   "source": [
    "df_week = sales_data.groupby('Week')['Revenue'].sum().reset_index()\n",
    "df_week"
   ]
  },
  {
   "cell_type": "code",
   "execution_count": 22,
   "id": "91094e7a-3c8a-4f73-af2d-753319a416f3",
   "metadata": {},
   "outputs": [
    {
     "data": {
      "text/html": [
       "<div>\n",
       "<style scoped>\n",
       "    .dataframe tbody tr th:only-of-type {\n",
       "        vertical-align: middle;\n",
       "    }\n",
       "\n",
       "    .dataframe tbody tr th {\n",
       "        vertical-align: top;\n",
       "    }\n",
       "\n",
       "    .dataframe thead th {\n",
       "        text-align: right;\n",
       "    }\n",
       "</style>\n",
       "<table border=\"1\" class=\"dataframe\">\n",
       "  <thead>\n",
       "    <tr style=\"text-align: right;\">\n",
       "      <th>Week</th>\n",
       "      <th>1</th>\n",
       "      <th>2</th>\n",
       "      <th>3</th>\n",
       "      <th>4</th>\n",
       "      <th>5</th>\n",
       "    </tr>\n",
       "  </thead>\n",
       "  <tbody>\n",
       "    <tr>\n",
       "      <th>Revenue</th>\n",
       "      <td>186042</td>\n",
       "      <td>345674</td>\n",
       "      <td>287125</td>\n",
       "      <td>302749</td>\n",
       "      <td>215808</td>\n",
       "    </tr>\n",
       "  </tbody>\n",
       "</table>\n",
       "</div>"
      ],
      "text/plain": [
       "Week          1       2       3       4       5\n",
       "Revenue  186042  345674  287125  302749  215808"
      ]
     },
     "execution_count": 22,
     "metadata": {},
     "output_type": "execute_result"
    }
   ],
   "source": [
    "weekly_sales = df_week.set_index('Week').T\n",
    "weekly_sales"
   ]
  },
  {
   "cell_type": "code",
   "execution_count": 23,
   "id": "ba38fddf-a0ee-4a44-b0d4-7c4f22590ecb",
   "metadata": {},
   "outputs": [],
   "source": [
    "weekly_sales.columns = [f\"Week-{int(week)}\" for week in weekly_sales.columns]\n",
    "weekly_sales = weekly_sales.reset_index(drop=True)"
   ]
  },
  {
   "cell_type": "code",
   "execution_count": 24,
   "id": "580d6966-98c3-4529-81f1-ac17adbae157",
   "metadata": {},
   "outputs": [
    {
     "data": {
      "text/html": [
       "<div>\n",
       "<style scoped>\n",
       "    .dataframe tbody tr th:only-of-type {\n",
       "        vertical-align: middle;\n",
       "    }\n",
       "\n",
       "    .dataframe tbody tr th {\n",
       "        vertical-align: top;\n",
       "    }\n",
       "\n",
       "    .dataframe thead th {\n",
       "        text-align: right;\n",
       "    }\n",
       "</style>\n",
       "<table border=\"1\" class=\"dataframe\">\n",
       "  <thead>\n",
       "    <tr style=\"text-align: right;\">\n",
       "      <th></th>\n",
       "      <th>Week-1</th>\n",
       "      <th>Week-2</th>\n",
       "      <th>Week-3</th>\n",
       "      <th>Week-4</th>\n",
       "      <th>Week-5</th>\n",
       "    </tr>\n",
       "  </thead>\n",
       "  <tbody>\n",
       "    <tr>\n",
       "      <th>0</th>\n",
       "      <td>186042</td>\n",
       "      <td>345674</td>\n",
       "      <td>287125</td>\n",
       "      <td>302749</td>\n",
       "      <td>215808</td>\n",
       "    </tr>\n",
       "  </tbody>\n",
       "</table>\n",
       "</div>"
      ],
      "text/plain": [
       "   Week-1  Week-2  Week-3  Week-4  Week-5\n",
       "0  186042  345674  287125  302749  215808"
      ]
     },
     "execution_count": 24,
     "metadata": {},
     "output_type": "execute_result"
    }
   ],
   "source": [
    "weekly_sales"
   ]
  },
  {
   "cell_type": "markdown",
   "id": "a2f46918-fead-4d54-bf12-c7368761468e",
   "metadata": {},
   "source": [
    "Here, We used the Transposing to convert the dataframe from vertically to horizontally. \n",
    "Because It'll be easy to read and store in the excel file"
   ]
  },
  {
   "cell_type": "markdown",
   "id": "790e6af0-cf77-482a-ba7c-651768f6240b",
   "metadata": {},
   "source": [
    "# 📈 Step 3: Format Excel & Create Charts with openpyxl"
   ]
  },
  {
   "cell_type": "markdown",
   "id": "150df9f3-9f43-4674-b796-a502e163b383",
   "metadata": {},
   "source": [
    "## Creating the Excel Report"
   ]
  },
  {
   "cell_type": "markdown",
   "id": "21e33b9b-0f16-456f-9fe2-241c9970f295",
   "metadata": {},
   "source": [
    "Now, let's create the styled excel report using **'openpyxl'** library. Using this library, we'll automate the excel report."
   ]
  },
  {
   "cell_type": "code",
   "execution_count": 25,
   "id": "fb409740-5577-4ead-885f-9b8c48877e80",
   "metadata": {},
   "outputs": [
    {
     "data": {
      "text/plain": [
       "'May-25'"
      ]
     },
     "execution_count": 25,
     "metadata": {},
     "output_type": "execute_result"
    }
   ],
   "source": [
    "date_obj = sales_data['Date'][0].strftime(\"%b-%y\")\n",
    "date_obj"
   ]
  },
  {
   "cell_type": "code",
   "execution_count": 26,
   "id": "ae55770b-24ca-4b95-86d5-65ea986bb3ea",
   "metadata": {},
   "outputs": [
    {
     "data": {
      "text/plain": [
       "['A', 'B', 'C', 'D', 'E', 'F', 'G', 'H', 'I', 'J', 'K', 'L', 'M', 'N', 'O']"
      ]
     },
     "execution_count": 26,
     "metadata": {},
     "output_type": "execute_result"
    }
   ],
   "source": [
    "char_list = [chr(i) for i in range(65,80)]\n",
    "char_list"
   ]
  },
  {
   "cell_type": "code",
   "execution_count": 27,
   "id": "25a2e3d4-a305-4f15-b00a-63ad547389ef",
   "metadata": {},
   "outputs": [],
   "source": [
    "def set_column_width(sheet):\n",
    "    for letter in char_list:\n",
    "        sheet.column_dimensions[letter].width = 22"
   ]
  },
  {
   "cell_type": "code",
   "execution_count": 28,
   "id": "b5ed49d3-45e2-4450-9e3a-3cc7106a994d",
   "metadata": {},
   "outputs": [],
   "source": [
    "import openpyxl\n",
    "from openpyxl.styles import Font,Alignment,PatternFill\n",
    "\n",
    "#create a new workbook\n",
    "wb = openpyxl.Workbook()\n",
    "ws = wb.active\n",
    "ws.title = date_obj\n",
    "\n",
    "set_column_width(ws)\n",
    "\n",
    "ws.row_dimensions[1].height = 45\n",
    "ws.merge_cells('A1:I1')\n",
    "merged_cell = ws['A1']\n",
    "merged_cell.alignment = Alignment(horizontal='left',vertical='center')\n",
    "merged_cell.value = 'MONTHLY RETAIL SALES SUMMARY REPORT'\n",
    "merged_cell.font = Font('Century Gothic',bold=True,size=22,color='595959')\n",
    "\n",
    "ws.row_dimensions[2].height = 20\n",
    "ws['A2'].alignment = Alignment(horizontal='left',vertical='center')\n",
    "ws['A2'].value = 'REPORTING MONTH'\n",
    "ws['A2'].font = Font('Century Gothic',bold=False,size=15,color='595959')\n",
    "\n",
    "ws.row_dimensions[4].height = 40\n",
    "ws.merge_cells('A4:F4')\n",
    "merged_cell2 = ws['A4']\n",
    "merged_cell2.alignment = Alignment(horizontal='left',vertical='center')\n",
    "merged_cell2.value = date_obj\n",
    "merged_cell2.font = Font('Century Gothic',bold=True,size=12,color='595959')\n",
    "merged_cell2.fill = PatternFill(start_color=\"F2F2F2\",fill_type=\"solid\")\n",
    "\n",
    "ws.row_dimensions[3].height = 3\n",
    "ws.row_dimensions[5].height = 3\n",
    "\n",
    "ws.row_dimensions[6].height = 35\n",
    "ws.merge_cells('A6:C6')\n",
    "merged_cell = ws['A6']\n",
    "merged_cell.alignment = Alignment(horizontal='left',vertical='center')\n",
    "merged_cell.value = 'SUMMARY REPORT'\n",
    "merged_cell.font = Font('Century Gothic',bold=False,size=20,color='548235')\n",
    "\n",
    "# wb.save('Excel_Report_Generator.xlsx')"
   ]
  },
  {
   "cell_type": "markdown",
   "id": "48a819b6-d12a-44dd-ab9d-4caa030a604c",
   "metadata": {},
   "source": [
    "## Adding DataFrame to Excel"
   ]
  },
  {
   "cell_type": "markdown",
   "id": "72c09ad7-d57b-4eb7-9566-129e20b07956",
   "metadata": {},
   "source": [
    "To apply borders to the cell, we use <span style=\"color:red\">Border</span> & <span style=\"color:red\">Side</span> class from the\n",
    "**openpyxl** library."
   ]
  },
  {
   "cell_type": "code",
   "execution_count": 29,
   "id": "40e67b95-7953-4e59-91c7-b49b16ff44e2",
   "metadata": {},
   "outputs": [],
   "source": [
    "from openpyxl.styles.borders import Border,Side\n",
    "\n",
    "def apply_Border_to_DataFrame(cell):\n",
    "    cell.border = Border(left=Side(style='thin',color='BFBFBF'), \n",
    "                             right=Side(style='thin',color='BFBFBF'), \n",
    "                             top=Side(style='thin',color='BFBFBF'), \n",
    "                             bottom=Side(style='thin',color='BFBFBF'))"
   ]
  },
  {
   "cell_type": "markdown",
   "id": "5bc9aeff-103a-41ba-9366-a37b5bd654d1",
   "metadata": {},
   "source": [
    "To Convert the add the dataframe into the excel file, there is one method we can use <span style=\"color:red\">dataframe_to_rows</span>, which\n",
    "converts the dataframe into rows and we can easily assign it in cells."
   ]
  },
  {
   "cell_type": "code",
   "execution_count": 30,
   "id": "d9c96d4d-b2c0-4301-96d3-57ba1a21b4b9",
   "metadata": {},
   "outputs": [],
   "source": [
    "from openpyxl.utils.dataframe import dataframe_to_rows\n",
    "\n",
    "def add_df_to_excel(sheet,rows,r_index,c_index,isHidden):\n",
    "    for r_idx,row in enumerate(rows,r_index):\n",
    "        for c_idx,value in enumerate(row,c_index):\n",
    "            cell = sheet.cell(row=r_idx, column=c_idx, value=value)\n",
    "            cell.alignment = Alignment(horizontal=\"center\",vertical=\"center\")\n",
    "            cell.font = Font('Century Gothic',bold=False,size=12)\n",
    "            if isHidden:\n",
    "                cell.font = Font(color=\"FFFFFF\")\n",
    "            else:\n",
    "                apply_Border_to_DataFrame(cell)  \n",
    "                if cell.row == r_index:\n",
    "                    cell.fill = PatternFill(start_color=\"E2EFDA\",fill_type=\"solid\")\n",
    "                    cell.font = Font('Century Gothic',bold=True,size=11) \n",
    "\n",
    "        ws.row_dimensions[r_idx].height = 35\n",
    "        "
   ]
  },
  {
   "cell_type": "code",
   "execution_count": 31,
   "id": "850f77e3-6a73-4f52-a9fe-3fd007aad94c",
   "metadata": {},
   "outputs": [
    {
     "data": {
      "text/html": [
       "<div>\n",
       "<style scoped>\n",
       "    .dataframe tbody tr th:only-of-type {\n",
       "        vertical-align: middle;\n",
       "    }\n",
       "\n",
       "    .dataframe tbody tr th {\n",
       "        vertical-align: top;\n",
       "    }\n",
       "\n",
       "    .dataframe thead th {\n",
       "        text-align: right;\n",
       "    }\n",
       "</style>\n",
       "<table border=\"1\" class=\"dataframe\">\n",
       "  <thead>\n",
       "    <tr style=\"text-align: right;\">\n",
       "      <th></th>\n",
       "      <th>Total Revenue</th>\n",
       "      <th>Total Order</th>\n",
       "      <th>Total Units Sold</th>\n",
       "    </tr>\n",
       "  </thead>\n",
       "  <tbody>\n",
       "    <tr>\n",
       "      <th>0</th>\n",
       "      <td>1337398</td>\n",
       "      <td>1000</td>\n",
       "      <td>5425</td>\n",
       "    </tr>\n",
       "  </tbody>\n",
       "</table>\n",
       "</div>"
      ],
      "text/plain": [
       "   Total Revenue  Total Order  Total Units Sold\n",
       "0        1337398         1000              5425"
      ]
     },
     "execution_count": 31,
     "metadata": {},
     "output_type": "execute_result"
    }
   ],
   "source": [
    "df_summary"
   ]
  },
  {
   "cell_type": "code",
   "execution_count": 32,
   "id": "6142c6db-6348-4bc2-9320-d3b2a95438fe",
   "metadata": {},
   "outputs": [],
   "source": [
    "from openpyxl.utils import get_column_letter\n",
    "from openpyxl.styles import numbers\n",
    "\n",
    "ws.row_dimensions[7].height = 35\n",
    "ws.row_dimensions[8].height = 35\n",
    "\n",
    "rows_summary = dataframe_to_rows(df_summary,index=False)\n",
    "add_df_to_excel(ws,rows_summary,7,1,isHidden=False)\n",
    "\n",
    "for row in ws.iter_rows(min_row=7,max_row=8,min_col=1,max_col=3):\n",
    "    for cell in row:\n",
    "        if cell.row == 7:\n",
    "            if cell.column == 1:\n",
    "                cell.fill = PatternFill(start_color=\"DBF0AF\",fill_type=\"solid\")\n",
    "        else:\n",
    "            if cell.column == 1:\n",
    "                cell.number_format = numbers.FORMAT_CURRENCY_USD_SIMPLE\n",
    "\n",
    "# wb.save('Excel_Report_Generator.xlsx')"
   ]
  },
  {
   "cell_type": "markdown",
   "id": "2b6d245c-ff9f-4382-9f98-9ee9a164f82d",
   "metadata": {},
   "source": [
    "So far, our excel sheet looks like this,"
   ]
  },
  {
   "cell_type": "markdown",
   "id": "dfe86a7c-fd0e-4797-b07b-851e1f1acfb9",
   "metadata": {},
   "source": [
    "![Image-1](Images/image1.png)"
   ]
  },
  {
   "cell_type": "markdown",
   "id": "c0752fd5-dd57-42bd-b61d-96a3405deba9",
   "metadata": {},
   "source": [
    "Similarly, we'll use the same method to insert the *'weekly sales data'*."
   ]
  },
  {
   "cell_type": "code",
   "execution_count": 33,
   "id": "86e0ccf4-6c9b-42e2-82bd-19b9587fbed7",
   "metadata": {},
   "outputs": [],
   "source": [
    "ws.row_dimensions[10].height = 35\n",
    "ws.row_dimensions[11].height = 35\n",
    "ws.row_dimensions[12].height = 35\n",
    "\n",
    "#Adding data vertically for temporary use\n",
    "rows_temp = dataframe_to_rows(df_week,index=False)\n",
    "add_df_to_excel(ws,rows_temp,11,10,isHidden=True)\n",
    "\n",
    "ws.merge_cells('A10:C10')\n",
    "merged_cell = ws['A10']\n",
    "merged_cell.alignment = Alignment(horizontal='left',vertical='center')\n",
    "merged_cell.value = 'WEEKLY SALES REPORT'\n",
    "merged_cell.font = Font('Century Gothic',bold=False,size=20,color='548235')\n",
    "\n",
    "rows_week = dataframe_to_rows(weekly_sales,index=False)\n",
    "add_df_to_excel(ws,rows_week,11,1,isHidden=False)\n",
    "\n",
    "for row in ws.iter_rows(min_row=11,max_row=12,min_col=1,max_col=len(weekly_sales.columns)):\n",
    "    for cell in row:\n",
    "        if cell.row == 12:\n",
    "            cell.number_format = numbers.FORMAT_CURRENCY_USD_SIMPLE\n",
    "        \n",
    "\n",
    "# wb.save('Excel_Report_Generator.xlsx')"
   ]
  },
  {
   "cell_type": "markdown",
   "id": "1acfedaa-1045-4b7d-a386-9f648b26b849",
   "metadata": {},
   "source": [
    "![Image-2](Images/image2.png)"
   ]
  },
  {
   "cell_type": "markdown",
   "id": "ca072893-4053-47ca-83f6-76d2ad660a46",
   "metadata": {},
   "source": [
    "# Adding DoughnutChart to Excel"
   ]
  },
  {
   "cell_type": "markdown",
   "id": "73e6c0ac-db4a-4af4-91bb-55820a0865fa",
   "metadata": {},
   "source": [
    "Now, Let's add the Bar chart for the revenue generated weekly in the month. For that we'll use <span style=\"color:red\">DoughnutChart</span> in **openpyxl**\n",
    "library."
   ]
  },
  {
   "cell_type": "code",
   "execution_count": 34,
   "id": "02d3e332-536e-4375-bfdf-01ad62c0c15d",
   "metadata": {},
   "outputs": [],
   "source": [
    "from openpyxl.chart import DoughnutChart,Reference\n",
    "from openpyxl.chart.label import DataLabelList\n",
    "\n",
    "ws.row_dimensions[14].height = 100\n",
    "ws.row_dimensions[15].height = 100\n",
    "ws.row_dimensions[16].height = 74.25\n",
    "\n",
    "weekly_chart = DoughnutChart()\n",
    "weekly_chart.title = \"Weekly Revenue\"\n",
    "weekly_chart.height = 10\n",
    "weekly_chart.widht = 25\n",
    "\n",
    "#Data and Categories\n",
    "data_week = Reference(ws,min_col=11,min_row=11,max_row=11 + len(df_week))\n",
    "category_week = Reference(ws,min_col=10,min_row=12,max_row=11 + len(df_week))\n",
    "weekly_chart.add_data(data_week,titles_from_data=True)\n",
    "weekly_chart.set_categories(category_week)\n",
    "\n",
    "#Add Chart Labels\n",
    "weekly_chart.dataLabels = DataLabelList()\n",
    "weekly_chart.dataLabels.showVal = False\n",
    "weekly_chart.dataLabels.showPercent = True\n",
    "\n",
    "ws.add_chart(weekly_chart,'A14')\n",
    "\n",
    "# wb.save('Excel_Report_Generator.xlsx')"
   ]
  },
  {
   "cell_type": "markdown",
   "id": "7b7ba458-d2c4-49eb-b185-b9d8887829b8",
   "metadata": {},
   "source": [
    "![Image-3](Images/image3.png)"
   ]
  },
  {
   "cell_type": "markdown",
   "id": "8bb7e710-80fe-4ffd-9eb8-e452859edefd",
   "metadata": {},
   "source": [
    "Here, You can see the DoughnutChart is created from the weekly sales data."
   ]
  },
  {
   "cell_type": "markdown",
   "id": "2cf92b89-4e21-4f4b-b385-e3890a9fcab3",
   "metadata": {},
   "source": [
    "# Sales By Product"
   ]
  },
  {
   "cell_type": "markdown",
   "id": "abeb1e87-7eb8-4b02-aaa0-6354de6096ea",
   "metadata": {},
   "source": [
    "Now, we'll add the data of revenue generated by each product."
   ]
  },
  {
   "cell_type": "code",
   "execution_count": 35,
   "id": "db0642d4-2cbd-4622-a21b-956f31b7bf1b",
   "metadata": {},
   "outputs": [
    {
     "data": {
      "text/html": [
       "<div>\n",
       "<style scoped>\n",
       "    .dataframe tbody tr th:only-of-type {\n",
       "        vertical-align: middle;\n",
       "    }\n",
       "\n",
       "    .dataframe tbody tr th {\n",
       "        vertical-align: top;\n",
       "    }\n",
       "\n",
       "    .dataframe thead th {\n",
       "        text-align: right;\n",
       "    }\n",
       "</style>\n",
       "<table border=\"1\" class=\"dataframe\">\n",
       "  <thead>\n",
       "    <tr style=\"text-align: right;\">\n",
       "      <th></th>\n",
       "      <th>Product</th>\n",
       "      <th>Units Sold</th>\n",
       "      <th>Unit Price</th>\n",
       "      <th>Revenue</th>\n",
       "    </tr>\n",
       "  </thead>\n",
       "  <tbody>\n",
       "    <tr>\n",
       "      <th>0</th>\n",
       "      <td>Action Figure</td>\n",
       "      <td>380</td>\n",
       "      <td>30</td>\n",
       "      <td>11400</td>\n",
       "    </tr>\n",
       "    <tr>\n",
       "      <th>1</th>\n",
       "      <td>Air Conditioner</td>\n",
       "      <td>331</td>\n",
       "      <td>399</td>\n",
       "      <td>132069</td>\n",
       "    </tr>\n",
       "    <tr>\n",
       "      <th>2</th>\n",
       "      <td>Blender</td>\n",
       "      <td>572</td>\n",
       "      <td>89</td>\n",
       "      <td>50908</td>\n",
       "    </tr>\n",
       "    <tr>\n",
       "      <th>3</th>\n",
       "      <td>Board Game</td>\n",
       "      <td>537</td>\n",
       "      <td>40</td>\n",
       "      <td>21480</td>\n",
       "    </tr>\n",
       "    <tr>\n",
       "      <th>4</th>\n",
       "      <td>Jacket</td>\n",
       "      <td>460</td>\n",
       "      <td>75</td>\n",
       "      <td>34500</td>\n",
       "    </tr>\n",
       "    <tr>\n",
       "      <th>5</th>\n",
       "      <td>Jeans</td>\n",
       "      <td>443</td>\n",
       "      <td>50</td>\n",
       "      <td>22150</td>\n",
       "    </tr>\n",
       "    <tr>\n",
       "      <th>6</th>\n",
       "      <td>Laptop</td>\n",
       "      <td>430</td>\n",
       "      <td>999</td>\n",
       "      <td>429570</td>\n",
       "    </tr>\n",
       "    <tr>\n",
       "      <th>7</th>\n",
       "      <td>Microwave</td>\n",
       "      <td>487</td>\n",
       "      <td>150</td>\n",
       "      <td>73050</td>\n",
       "    </tr>\n",
       "    <tr>\n",
       "      <th>8</th>\n",
       "      <td>Puzzle</td>\n",
       "      <td>466</td>\n",
       "      <td>20</td>\n",
       "      <td>9320</td>\n",
       "    </tr>\n",
       "    <tr>\n",
       "      <th>9</th>\n",
       "      <td>Smartphone</td>\n",
       "      <td>410</td>\n",
       "      <td>699</td>\n",
       "      <td>286590</td>\n",
       "    </tr>\n",
       "    <tr>\n",
       "      <th>10</th>\n",
       "      <td>T-shirt</td>\n",
       "      <td>395</td>\n",
       "      <td>25</td>\n",
       "      <td>9875</td>\n",
       "    </tr>\n",
       "    <tr>\n",
       "      <th>11</th>\n",
       "      <td>Tablet</td>\n",
       "      <td>514</td>\n",
       "      <td>499</td>\n",
       "      <td>256486</td>\n",
       "    </tr>\n",
       "  </tbody>\n",
       "</table>\n",
       "</div>"
      ],
      "text/plain": [
       "            Product  Units Sold  Unit Price  Revenue\n",
       "0     Action Figure         380          30    11400\n",
       "1   Air Conditioner         331         399   132069\n",
       "2           Blender         572          89    50908\n",
       "3        Board Game         537          40    21480\n",
       "4            Jacket         460          75    34500\n",
       "5             Jeans         443          50    22150\n",
       "6            Laptop         430         999   429570\n",
       "7         Microwave         487         150    73050\n",
       "8            Puzzle         466          20     9320\n",
       "9        Smartphone         410         699   286590\n",
       "10          T-shirt         395          25     9875\n",
       "11           Tablet         514         499   256486"
      ]
     },
     "execution_count": 35,
     "metadata": {},
     "output_type": "execute_result"
    }
   ],
   "source": [
    "product_sales"
   ]
  },
  {
   "cell_type": "markdown",
   "id": "b3d58dac-b024-45ef-b421-d640958bb806",
   "metadata": {},
   "source": [
    "Let's add this data to the exel using the same method we used above."
   ]
  },
  {
   "cell_type": "code",
   "execution_count": 36,
   "id": "534b22b6-b7d8-4e6a-852e-ab105f351876",
   "metadata": {},
   "outputs": [],
   "source": [
    "ws.row_dimensions[19].height = 35\n",
    "ws.merge_cells('A19:C19')\n",
    "merged_cell = ws['A19']\n",
    "merged_cell.alignment = Alignment(horizontal='left',vertical='center')\n",
    "merged_cell.value = 'SALES BY PRODUCT'\n",
    "merged_cell.font = Font('Century Gothic',bold=False,size=20,color='548235')\n",
    "\n",
    "rows_product = dataframe_to_rows(product_sales,index=False)\n",
    "add_df_to_excel(ws,rows_product,21,1,isHidden=False)\n",
    "\n",
    "# wb.save('Excel_Report_Generator.xlsx')"
   ]
  },
  {
   "cell_type": "markdown",
   "id": "a322b3ee-fbbe-4a71-80ad-e09128ff2311",
   "metadata": {},
   "source": [
    "![Image-4](Images/image4.png)"
   ]
  },
  {
   "cell_type": "markdown",
   "id": "89f8475b-1200-431e-b15a-3db0964cfea3",
   "metadata": {},
   "source": [
    "# Adding BarChart to Excel"
   ]
  },
  {
   "cell_type": "markdown",
   "id": "b5e4cfa1-03e8-4664-93e9-d52c98e36c49",
   "metadata": {},
   "source": [
    "Now, using the **BarChart**, we'll create the barchart of the sales of different products."
   ]
  },
  {
   "cell_type": "code",
   "execution_count": 37,
   "id": "0edeed24-75ea-44c5-b28f-5b9c4c19eb7a",
   "metadata": {},
   "outputs": [],
   "source": [
    "from openpyxl.chart import BarChart\n",
    "\n",
    "product_chart = BarChart()\n",
    "product_chart.type = \"bar\"\n",
    "product_chart.title = \"Sales by Product\"\n",
    "product_chart.style = 5\n",
    "product_chart.y_axis.title = \"Revenue\"\n",
    "product_chart.x_axis.title = \"Product\"\n",
    "product_chart.height = 20\n",
    "product_chart.width = 35\n",
    "\n",
    "data = Reference(ws,min_col=4,max_col=len(product_sales.columns),min_row=21,max_row=21+len(product_sales))\n",
    "cat = Reference(ws,min_col=1,min_row=22,max_row=21+len(product_sales))\n",
    "product_chart.add_data(data,titles_from_data=True)\n",
    "product_chart.set_categories(cat)\n",
    "\n",
    "#Add Chart Labels\n",
    "product_chart.legend = None\n",
    "product_chart.dataLabels = DataLabelList()\n",
    "product_chart.dataLabels.showVal = True\n",
    "\n",
    "ws.add_chart(product_chart,'A35')\n",
    "ws.sheet_view.showGridLines = False\n",
    "\n",
    "# wb.save('Excel_Report_Generator.xlsx')"
   ]
  },
  {
   "cell_type": "markdown",
   "id": "99e3ff26-4358-4be4-817b-a63c54c2e106",
   "metadata": {},
   "source": [
    "![Image-5](Images/image5.png)"
   ]
  },
  {
   "cell_type": "markdown",
   "id": "ede70589-2631-4b68-9943-4ec69457f47c",
   "metadata": {},
   "source": [
    "# Sales by Category"
   ]
  },
  {
   "cell_type": "markdown",
   "id": "bdaeced5-9d29-40f0-80ab-bac4510f22c7",
   "metadata": {},
   "source": [
    "similarly, let's add the sales data of different categories."
   ]
  },
  {
   "cell_type": "code",
   "execution_count": 38,
   "id": "1395fa3b-9992-4197-885a-bf7842a4edc0",
   "metadata": {},
   "outputs": [
    {
     "data": {
      "text/html": [
       "<div>\n",
       "<style scoped>\n",
       "    .dataframe tbody tr th:only-of-type {\n",
       "        vertical-align: middle;\n",
       "    }\n",
       "\n",
       "    .dataframe tbody tr th {\n",
       "        vertical-align: top;\n",
       "    }\n",
       "\n",
       "    .dataframe thead th {\n",
       "        text-align: right;\n",
       "    }\n",
       "</style>\n",
       "<table border=\"1\" class=\"dataframe\">\n",
       "  <thead>\n",
       "    <tr style=\"text-align: right;\">\n",
       "      <th></th>\n",
       "      <th>Category</th>\n",
       "      <th>Units Sold</th>\n",
       "      <th>Unit Price</th>\n",
       "      <th>Revenue</th>\n",
       "    </tr>\n",
       "  </thead>\n",
       "  <tbody>\n",
       "    <tr>\n",
       "      <th>0</th>\n",
       "      <td>Clothing</td>\n",
       "      <td>1298</td>\n",
       "      <td>75</td>\n",
       "      <td>66525</td>\n",
       "    </tr>\n",
       "    <tr>\n",
       "      <th>1</th>\n",
       "      <td>Electronics</td>\n",
       "      <td>1354</td>\n",
       "      <td>499</td>\n",
       "      <td>972646</td>\n",
       "    </tr>\n",
       "    <tr>\n",
       "      <th>2</th>\n",
       "      <td>Home Appliances</td>\n",
       "      <td>1390</td>\n",
       "      <td>150</td>\n",
       "      <td>256027</td>\n",
       "    </tr>\n",
       "    <tr>\n",
       "      <th>3</th>\n",
       "      <td>Toys</td>\n",
       "      <td>1383</td>\n",
       "      <td>30</td>\n",
       "      <td>42200</td>\n",
       "    </tr>\n",
       "  </tbody>\n",
       "</table>\n",
       "</div>"
      ],
      "text/plain": [
       "          Category  Units Sold  Unit Price  Revenue\n",
       "0         Clothing        1298          75    66525\n",
       "1      Electronics        1354         499   972646\n",
       "2  Home Appliances        1390         150   256027\n",
       "3             Toys        1383          30    42200"
      ]
     },
     "execution_count": 38,
     "metadata": {},
     "output_type": "execute_result"
    }
   ],
   "source": [
    "category_sales"
   ]
  },
  {
   "cell_type": "code",
   "execution_count": 39,
   "id": "a6deee70-57c7-41d6-97af-d12d3012f90a",
   "metadata": {},
   "outputs": [],
   "source": [
    "ws.row_dimensions[74].height = 35\n",
    "ws.merge_cells('A74:C74')\n",
    "merged_cell = ws['A74']\n",
    "merged_cell.alignment = Alignment(horizontal='left',vertical='center')\n",
    "merged_cell.value = 'SALES BY CATEGORY'\n",
    "merged_cell.font = Font('Century Gothic',bold=False,size=20,color='548235')\n",
    "\n",
    "rows_category = dataframe_to_rows(category_sales,index=False)\n",
    "add_df_to_excel(ws,rows_category,76,1,isHidden=False)"
   ]
  },
  {
   "cell_type": "code",
   "execution_count": 40,
   "id": "ae0324b6-28da-4846-870a-1810e951500f",
   "metadata": {},
   "outputs": [],
   "source": [
    "category_chart = BarChart()\n",
    "category_chart.type = \"bar\"\n",
    "category_chart.title = \"Sales by Category\"\n",
    "category_chart.style = 5\n",
    "category_chart.y_axis.title = \"Revenue\"\n",
    "category_chart.x_axis.title = \"Category\"\n",
    "category_chart.height = 12\n",
    "category_chart.width = 25\n",
    "\n",
    "data_cat = Reference(ws,min_col=4,max_col=len(category_sales.columns),min_row=76,max_row=76+len(category_sales))\n",
    "cat_labels = Reference(ws,min_col=1,min_row=77,max_row=76+len(category_sales))\n",
    "category_chart.add_data(data_cat,titles_from_data=True)\n",
    "category_chart.set_categories(cat_labels)\n",
    "\n",
    "#Add Chart Labels\n",
    "category_chart.legend = None\n",
    "category_chart.dataLabels = DataLabelList()\n",
    "category_chart.dataLabels.showVal = True\n",
    "\n",
    "ws.add_chart(category_chart,'A82')\n",
    "\n",
    "# wb.save('Excel_Report_Generator.xlsx')"
   ]
  },
  {
   "cell_type": "markdown",
   "id": "65e30354-ab92-4a02-8816-95b654164304",
   "metadata": {},
   "source": [
    "![Image-6](Images/image6.png)"
   ]
  },
  {
   "cell_type": "markdown",
   "id": "cb0a5c45-153d-48a3-a700-868d9c73331d",
   "metadata": {},
   "source": [
    "# Sales By Region"
   ]
  },
  {
   "cell_type": "markdown",
   "id": "71440216-d57d-442d-ab10-aa40131c5435",
   "metadata": {},
   "source": [
    "Similarly, Also let's add the revenue generated by different regions in the excel report."
   ]
  },
  {
   "cell_type": "code",
   "execution_count": 41,
   "id": "69c391fb-ef84-40af-94e4-ed6bcadbbb3b",
   "metadata": {},
   "outputs": [
    {
     "data": {
      "text/html": [
       "<div>\n",
       "<style scoped>\n",
       "    .dataframe tbody tr th:only-of-type {\n",
       "        vertical-align: middle;\n",
       "    }\n",
       "\n",
       "    .dataframe tbody tr th {\n",
       "        vertical-align: top;\n",
       "    }\n",
       "\n",
       "    .dataframe thead th {\n",
       "        text-align: right;\n",
       "    }\n",
       "</style>\n",
       "<table border=\"1\" class=\"dataframe\">\n",
       "  <thead>\n",
       "    <tr style=\"text-align: right;\">\n",
       "      <th></th>\n",
       "      <th>Region</th>\n",
       "      <th>Units Sold</th>\n",
       "      <th>Unit Price</th>\n",
       "      <th>Revenue</th>\n",
       "    </tr>\n",
       "  </thead>\n",
       "  <tbody>\n",
       "    <tr>\n",
       "      <th>0</th>\n",
       "      <td>East</td>\n",
       "      <td>1543</td>\n",
       "      <td>40</td>\n",
       "      <td>402162</td>\n",
       "    </tr>\n",
       "    <tr>\n",
       "      <th>1</th>\n",
       "      <td>North</td>\n",
       "      <td>1305</td>\n",
       "      <td>499</td>\n",
       "      <td>270592</td>\n",
       "    </tr>\n",
       "    <tr>\n",
       "      <th>2</th>\n",
       "      <td>South</td>\n",
       "      <td>1181</td>\n",
       "      <td>150</td>\n",
       "      <td>298314</td>\n",
       "    </tr>\n",
       "    <tr>\n",
       "      <th>3</th>\n",
       "      <td>West</td>\n",
       "      <td>1396</td>\n",
       "      <td>25</td>\n",
       "      <td>366330</td>\n",
       "    </tr>\n",
       "  </tbody>\n",
       "</table>\n",
       "</div>"
      ],
      "text/plain": [
       "  Region  Units Sold  Unit Price  Revenue\n",
       "0   East        1543          40   402162\n",
       "1  North        1305         499   270592\n",
       "2  South        1181         150   298314\n",
       "3   West        1396          25   366330"
      ]
     },
     "execution_count": 41,
     "metadata": {},
     "output_type": "execute_result"
    }
   ],
   "source": [
    "region_sales"
   ]
  },
  {
   "cell_type": "code",
   "execution_count": 42,
   "id": "33e89636-6f34-4981-af8f-c11f9d2ce368",
   "metadata": {},
   "outputs": [],
   "source": [
    "ws.row_dimensions[106].height = 35\n",
    "ws.merge_cells('A106:C106')\n",
    "merged_cell = ws['A106']\n",
    "merged_cell.alignment = Alignment(horizontal='left',vertical='center')\n",
    "merged_cell.value = 'SALES BY REGION'\n",
    "merged_cell.font = Font('Century Gothic',bold=False,size=20,color='548235')\n",
    "\n",
    "rows_region = dataframe_to_rows(region_sales,index=False)\n",
    "add_df_to_excel(ws,rows_region,108,1,isHidden=False)"
   ]
  },
  {
   "cell_type": "code",
   "execution_count": 43,
   "id": "b9f6b18e-91d5-498d-846c-4140395839d0",
   "metadata": {},
   "outputs": [],
   "source": [
    "region_chart = BarChart()\n",
    "region_chart.type = \"bar\"\n",
    "region_chart.title = \"Sales by Region\"\n",
    "region_chart.style = 5\n",
    "region_chart.y_axis.title = \"Revenue\"\n",
    "region_chart.x_axis.title = \"Region\"\n",
    "region_chart.height = 12\n",
    "region_chart.width = 25\n",
    "\n",
    "data_cat = Reference(ws,min_col=4,max_col=len(region_sales.columns),min_row=108,max_row=108+len(region_sales))\n",
    "cat_labels = Reference(ws,min_col=1,min_row=109,max_row=108+len(region_sales))\n",
    "region_chart.add_data(data_cat,titles_from_data=True)\n",
    "region_chart.set_categories(cat_labels)\n",
    "\n",
    "#Add Chart Labels\n",
    "region_chart.legend = None\n",
    "region_chart.dataLabels = DataLabelList()\n",
    "region_chart.dataLabels.showVal = True\n",
    "\n",
    "ws.add_chart(region_chart,'A115')\n",
    "\n",
    "wb.save('Excel_Report_Generator.xlsx')"
   ]
  },
  {
   "cell_type": "markdown",
   "id": "76d92034-fa4b-4de8-aff3-8ba9d55418c5",
   "metadata": {},
   "source": [
    "![Image-7](Images/image7.png)"
   ]
  },
  {
   "cell_type": "markdown",
   "id": "f49f145e-891e-4888-97f0-fbd99e4200da",
   "metadata": {},
   "source": [
    "<h1 style=\"font-size:50px; color:Green\"><center>Thank You</center></h1>"
   ]
  },
  {
   "cell_type": "code",
   "execution_count": null,
   "id": "0ecb3b96-3ec6-4ace-a632-6c0b7289ec57",
   "metadata": {},
   "outputs": [],
   "source": []
  }
 ],
 "metadata": {
  "kernelspec": {
   "display_name": "Python 3 (ipykernel)",
   "language": "python",
   "name": "python3"
  },
  "language_info": {
   "codemirror_mode": {
    "name": "ipython",
    "version": 3
   },
   "file_extension": ".py",
   "mimetype": "text/x-python",
   "name": "python",
   "nbconvert_exporter": "python",
   "pygments_lexer": "ipython3",
   "version": "3.13.3"
  }
 },
 "nbformat": 4,
 "nbformat_minor": 5
}
